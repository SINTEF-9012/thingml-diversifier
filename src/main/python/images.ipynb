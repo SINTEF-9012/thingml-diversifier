{
 "cells": [
  {
   "cell_type": "code",
   "execution_count": 1,
   "metadata": {
    "collapsed": true
   },
   "outputs": [],
   "source": [
    "%matplotlib inline\n",
    "\n",
    "import numpy as np\n",
    "import scipy.stats as stats\n",
    "import matplotlib.pyplot as plt\n",
    "import scipy.signal as sig\n",
    "\n",
    "from matplotlib import rcParams\n",
    "rcParams['font.family'] = 'serif'"
   ]
  },
  {
   "cell_type": "code",
   "execution_count": 2,
   "metadata": {
    "collapsed": true
   },
   "outputs": [],
   "source": [
    "def logToMsgsValues(name):\n",
    "    file = open(name)\n",
    "    comments = 0\n",
    "    found_christmas = False\n",
    "    while True:\n",
    "        line = file.readline()\n",
    "        if not line:\n",
    "            break\n",
    "        elif line.startswith('#CLI: What are you waitin for? Christmas?'):\n",
    "            found_christmas = True\n",
    "        elif line.startswith('!'):\n",
    "            arr = line[1:].strip().split(',')\n",
    "            yield [(int(x) % 256) for x in arr[:-1]]\n",
    "    if not found_christmas:\n",
    "        print('ERROR! Did not find Christmas!')\n",
    "\n",
    "def logToMsgsTypes(name):\n",
    "    file = open(name)\n",
    "    comments = 0\n",
    "    found_christmas = False\n",
    "    while True:\n",
    "        line = file.readline()\n",
    "        if not line:\n",
    "            break\n",
    "        elif line.startswith('#CLI: What are you waitin for? Christmas?'):\n",
    "            found_christmas = True\n",
    "        elif line.startswith(':'):\n",
    "            yield line[1:].strip().split(',')[:-1]\n",
    "    if not found_christmas:\n",
    "        print('ERROR! Did not find Christmas!')\n",
    "\n",
    "def logToMsgsWeakness(name):\n",
    "    file = open(name)\n",
    "    comments = 0\n",
    "    found_christmas = False\n",
    "    while True:\n",
    "        line = file.readline()\n",
    "        if not line:\n",
    "            break\n",
    "        elif line.startswith('#CLI: What are you waitin for? Christmas?'):\n",
    "            found_christmas = True\n",
    "        elif line.startswith('?'):\n",
    "            arr = line[1:].strip().split(',')\n",
    "            yield [(int(x) % 256) for x in arr[:-1]]\n",
    "    if not found_christmas:\n",
    "        print('ERROR! Did not find Christmas!')\n"
   ]
  },
  {
   "cell_type": "code",
   "execution_count": 3,
   "metadata": {
    "collapsed": true
   },
   "outputs": [],
   "source": [
    "def selectBytes(msgs, numMsgs):\n",
    "    return np.array([item for sublist in msgs[0:numMsgs] for item in sublist])"
   ]
  },
  {
   "cell_type": "code",
   "execution_count": 4,
   "metadata": {
    "collapsed": true
   },
   "outputs": [],
   "source": [
    "def loadBytes(base, N, part, generator=logToMsgsValues):\n",
    "    all_bts = []\n",
    "    max_len = 0\n",
    "    for i in range(1,N+1):\n",
    "        msgs = list(generator(base+str(i)+'.log'))\n",
    "        bts = selectBytes(msgs, len(msgs))\n",
    "        bts = bts[0:int(bts.shape[0]*part)]\n",
    "        max_len = len(bts) if len(bts) > max_len else max_len\n",
    "        all_bts.append(np.array(bts, dtype=float))\n",
    "    for i in range(0,len(all_bts)):\n",
    "        all_bts[i] = np.pad(all_bts[i], (0, max_len-len(all_bts[i])), 'constant', constant_values=np.nan)\n",
    "    parts = np.vstack(all_bts)\n",
    "    return parts"
   ]
  },
  {
   "cell_type": "code",
   "execution_count": 5,
   "metadata": {
    "collapsed": true
   },
   "outputs": [],
   "source": [
    "def loadTypes(base, N, part):\n",
    "    all_msgs = []\n",
    "    for i in range(1,N+1):\n",
    "        msgs = list(logToMsgsTypes(base+str(i)+'.log'))\n",
    "        msgs = msgs[0:int(len(msgs)*part)]\n",
    "        all_msgs.append([item for sublist in msgs for item in sublist]) # Flatten\n",
    "    # Make map of all types\n",
    "    all_types = []\n",
    "    max_len = 0\n",
    "    for msgs in all_msgs:\n",
    "        max_len = len(msgs) if len(msgs) > max_len else max_len\n",
    "        for msg in msgs:\n",
    "            if not (msg in all_types):\n",
    "                all_types.append(msg)\n",
    "    all_types.sort()\n",
    "    # Map all values to type index\n",
    "    all_arrs = []\n",
    "    for msgs in all_msgs:\n",
    "        arr = np.array([all_types.index(msg) for msg in msgs])\n",
    "        # Pad to maxlen\n",
    "        all_arrs.append(np.pad(arr, (0, max_len-len(arr)), 'constant', constant_values=-1))\n",
    "        \n",
    "    return all_types, np.vstack(all_arrs)"
   ]
  },
  {
   "cell_type": "code",
   "execution_count": 6,
   "metadata": {
    "collapsed": true
   },
   "outputs": [],
   "source": [
    "base_dir = '../../../target/thingml-bytes-logs/nodejs/'\n",
    "N = 10\n",
    "\n",
    "base_data = loadBytes(base_dir+'base/nodejs', N, 5/100)\n",
    "diversified_data = loadBytes(base_dir+'dynamic/nodejs', N, 5/100)\n",
    "diversified_data_static = loadBytes(base_dir+'static/nodejs', N, 5/100)\n",
    "\n",
    "base_weak = loadBytes(base_dir+'base/nodejs', N, 5/100, logToMsgsWeakness)\n",
    "diversified_weak = loadBytes(base_dir+'dynamic/nodejs', N, 5/100, logToMsgsWeakness)\n",
    "\n",
    "(base_types, base_type) = loadTypes(base_dir+'base/nodejs', N, 5/100)\n",
    "(diversified_types, diversified_type) = loadTypes(base_dir+'dynamic/nodejs', N, 5/100)"
   ]
  },
  {
   "cell_type": "code",
   "execution_count": 7,
   "metadata": {
    "collapsed": true
   },
   "outputs": [],
   "source": [
    "colormap = plt.get_cmap('rainbow')\n",
    "colormap.set_bad('w')\n",
    "\n",
    "def mask_nan(data):\n",
    "    return np.ma.masked_where(np.isnan(data), data)\n",
    "\n",
    "def plot_two_images(fignum, base_data, diversified_data):\n",
    "    fig = plt.figure(fignum, figsize=(15,6))\n",
    "    \n",
    "    ax1pos = [0.04, 0.6, 0.94, 0.35]\n",
    "    ax2pos = [0.04, 0.1, 0.94, 0.35]\n",
    "    \n",
    "    ax1 = fig.add_axes(ax1pos)    \n",
    "    ax1.imshow(base_data, cmap=colormap)\n",
    "    ax1.set_aspect('auto')\n",
    "    ax1.set_position(ax1pos)\n",
    "    \n",
    "    ax1.set_title('Non-diversified instances')\n",
    "    ax1.set_yticks([0,9])\n",
    "    ax1.set_yticklabels(['1','10'])\n",
    "    ax1.set_xticks(np.arange(0,base_data.shape[1], base_data.shape[1]/5))\n",
    "    ax1.set_ylabel('Instance #')\n",
    "    ax1.set_xlabel('Byte #')\n",
    "    \n",
    "    ax2 = fig.add_axes(ax2pos)    \n",
    "    ax2.imshow(diversified_data, cmap=colormap)\n",
    "    ax2.set_aspect('auto')\n",
    "    ax2.set_position(ax2pos)\n",
    "    \n",
    "    ax2.set_title('Diversified instances [dynamic]')\n",
    "    ax2.set_yticks([0,9])\n",
    "    ax2.set_yticklabels(['1','10'])\n",
    "    ax2.set_xticks([0, diversified_data.shape[1]-1])\n",
    "    ax2.set_ylabel('Instance #')\n",
    "    ax2.set_xlabel('Byte #')\n",
    "    \n",
    "    return (ax1, ax2)"
   ]
  },
  {
   "cell_type": "code",
   "execution_count": 8,
   "metadata": {},
   "outputs": [
    {
     "data": {
      "image/png": "[encoded data removed]",
      "text/plain": [
       "<matplotlib.figure.Figure at 0x1c7d565c710>"
      ]
     },
     "metadata": {},
     "output_type": "display_data"
    }
   ],
   "source": [
    "plot_two_images(1, mask_nan(base_data), mask_nan(diversified_data))\n",
    "plt.savefig('picture_raw_bytes.png', dpi=300)"
   ]
  },
  {
   "cell_type": "code",
   "execution_count": 9,
   "metadata": {},
   "outputs": [
    {
     "data": {
      "image/png": "[encoded data removed]",
      "text/plain": [
       "<matplotlib.figure.Figure at 0x1c7d56cda58>"
      ]
     },
     "metadata": {},
     "output_type": "display_data"
    }
   ],
   "source": [
    "base_weak_type = np.ma.masked_where(base_weak < 1, base_type)\n",
    "\n",
    "diversified_weak_type = diversified_weak.copy()\n",
    "diversified_weak_type[np.isnan(diversified_weak_type)] = 0\n",
    "diversified_weak_type = np.ma.masked_where(diversified_weak_type < 1, diversified_type)\n",
    "\n",
    "plot_two_images(2, base_weak_type, diversified_weak_type)\n",
    "plt.savefig('picture_weak_param.png', dpi=300)"
   ]
  }
 ],
 "metadata": {
  "kernelspec": {
   "display_name": "Python 3",
   "language": "python",
   "name": "python3"
  },
  "language_info": {
   "codemirror_mode": {
    "name": "ipython",
    "version": 3
   },
   "file_extension": ".py",
   "mimetype": "text/x-python",
   "name": "python",
   "nbconvert_exporter": "python",
   "pygments_lexer": "ipython3",
   "version": "3.6.1"
  }
 },
 "nbformat": 4,
 "nbformat_minor": 2
}
