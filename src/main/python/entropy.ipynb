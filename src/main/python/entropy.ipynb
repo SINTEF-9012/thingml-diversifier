{
 "cells": [
  {
   "cell_type": "code",
   "execution_count": 13,
   "metadata": {
    "collapsed": true
   },
   "outputs": [],
   "source": [
    "%matplotlib inline\n",
    "\n",
    "import numpy as np\n",
    "import scipy.stats as stats\n",
    "import matplotlib.pyplot as plt"
   ]
  },
  {
   "cell_type": "code",
   "execution_count": 2,
   "metadata": {
    "collapsed": true
   },
   "outputs": [],
   "source": [
    "def logToBytes(name):\n",
    "    file = open(name)\n",
    "    comments = 0\n",
    "    while True:\n",
    "        line = file.readline()\n",
    "        if not line:\n",
    "            break\n",
    "        elif line.startswith('#'):\n",
    "            comments += 1\n",
    "        else:\n",
    "            arr = line.strip().split(',')\n",
    "            for i in range(0,len(arr)-1):\n",
    "                bt = int(arr[i])\n",
    "                if bt < 0:\n",
    "                    yield 256+bt\n",
    "                else:\n",
    "                    yield bt\n",
    "    print(\"# of comments: \"+str(comments))"
   ]
  },
  {
   "cell_type": "code",
   "execution_count": 4,
   "metadata": {
    "collapsed": true
   },
   "outputs": [],
   "source": [
    "files = ['0','1','2','3','4','8','16']\n",
    "\n",
    "def calculateEntropy(name):\n",
    "    bts = np.fromiter(logToBytes('../resources/logs/'+name+'.log'), int)\n",
    "    prob = stats.itemfreq(bts)[:,1]/len(bts)\n",
    "    return -np.sum(prob*np.log2(prob))"
   ]
  },
  {
   "cell_type": "code",
   "execution_count": 11,
   "metadata": {},
   "outputs": [
    {
     "name": "stdout",
     "output_type": "stream",
     "text": [
      "# of comments: 2796\n",
      "# of comments: 2796\n",
      "# of comments: 2796\n",
      "# of comments: 2796\n",
      "# of comments: 2796\n",
      "# of comments: 2796\n",
      "# of comments: 2796\n"
     ]
    }
   ],
   "source": [
    "x = np.zeros(len(files))\n",
    "y = np.zeros(len(files))\n",
    "\n",
    "for i in range(0,len(files)):\n",
    "    x[i] = int(files[i])\n",
    "    y[i] = calculateEntropy(files[i])\n"
   ]
  },
  {
   "cell_type": "code",
   "execution_count": 14,
   "metadata": {},
   "outputs": [
    {
     "data": {
      "text/plain": [
       "[<matplotlib.lines.Line2D at 0x22138a120f0>]"
      ]
     },
     "execution_count": 14,
     "metadata": {},
     "output_type": "execute_result"
    },
    {
     "data": {
      "image/png": "[encoded data removed]",
      "text/plain": [
       "<matplotlib.figure.Figure at 0x22138946c18>"
      ]
     },
     "metadata": {},
     "output_type": "display_data"
    }
   ],
   "source": [
    "plt.figure(1)\n",
    "plt.plot(x,y)"
   ]
  }
 ],
 "metadata": {
  "kernelspec": {
   "display_name": "Python 3",
   "language": "python",
   "name": "python3"
  },
  "language_info": {
   "codemirror_mode": {
    "name": "ipython",
    "version": 3
   },
   "file_extension": ".py",
   "mimetype": "text/x-python",
   "name": "python",
   "nbconvert_exporter": "python",
   "pygments_lexer": "ipython3",
   "version": "3.6.3"
  }
 },
 "nbformat": 4,
 "nbformat_minor": 2
}
