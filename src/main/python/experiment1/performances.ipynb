{
 "cells": [
  {
   "cell_type": "code",
   "execution_count": 16,
   "metadata": {
    "collapsed": true
   },
   "outputs": [],
   "source": [
    "import numpy as np\n",
    "import random as rnd\n",
    "import os\n",
    "import re\n",
    "from IPython.display import HTML, display\n",
    "import matplotlib.pyplot as plt"
   ]
  },
  {
   "cell_type": "code",
   "execution_count": 17,
   "metadata": {
    "collapsed": true
   },
   "outputs": [],
   "source": [
    "languages = ['java', 'graal', 'nodejs', 'go', 'posix']\n",
    "modes = ['base', 'static', 'dynamic']\n",
    "fig_counter = 0\n",
    "root='../../../../target/logs'\n",
    "models='../../../../target/models'\n",
    "sources='../../../../target/code'"
   ]
  },
  {
   "cell_type": "code",
   "execution_count": 18,
   "metadata": {
    "collapsed": true
   },
   "outputs": [],
   "source": [
    "def allFiles(language, mode, log):\n",
    "    directory = os.fsencode(root + '/' + language + '/' + mode)\n",
    "    for file in os.listdir(directory):\n",
    "        filename = root + '/' + language + '/' + mode + '/' + os.fsdecode(file)\n",
    "        if log:            \n",
    "            if filename.split('/')[-1].startswith('nolog'+language) and filename.endswith('.log'): \n",
    "                yield filename\n",
    "        else:\n",
    "            if filename.split('/')[-1].startswith(language) and filename.endswith('.log'): \n",
    "                yield filename\n",
    "\n",
    "def isWrong(filename):\n",
    "    file = open(filename)\n",
    "    score = -1\n",
    "    while True:\n",
    "        line = file.readline()      \n",
    "        if not line:\n",
    "            if score != 349:\n",
    "                return 1\n",
    "            else:\n",
    "                return 0\n",
    "            break        \n",
    "        if line.startswith('ts:'):            \n",
    "            score = int(line[1:].strip().split(',')[2].split(':')[1:][0])\n",
    "            \n",
    "def loadMemory(filename):\n",
    "    file = open(filename)\n",
    "    mem_sum = 0\n",
    "    mem_count = 0\n",
    "    while True:\n",
    "        line = file.readline()      \n",
    "        if not line:\n",
    "            return mem_sum/mem_count        \n",
    "        if line.startswith('#usedMem:'):\n",
    "            mem = int(line[1:].strip().split(':')[1:][0])\n",
    "            mem_sum += mem\n",
    "            mem_count += 1\n",
    "            \n",
    "def loadTotalTime(filename):\n",
    "    file = open(filename)\n",
    "    while True:\n",
    "        line = file.readline()      \n",
    "        if not line:\n",
    "            break        \n",
    "        if line.startswith('>done in '):\n",
    "            time = line[9:-4].strip()\n",
    "            return int(time)              "
   ]
  },
  {
   "cell_type": "code",
   "execution_count": 31,
   "metadata": {
    "collapsed": true
   },
   "outputs": [],
   "source": [
    "def allData(language, mode):\n",
    "    all_errors = []\n",
    "    all_mem = []\n",
    "    all_t = []\n",
    "    for filename in allFiles(language, mode, True):\n",
    "        e = isWrong(filename)\n",
    "        if not e:\n",
    "            mem = loadMemory(filename)\n",
    "            t = loadTotalTime(filename)\n",
    "            all_mem.append(mem)\n",
    "            all_t.append(t)\n",
    "        all_errors.append(e)        \n",
    "    return all_t, all_mem, all_errors"
   ]
  },
  {
   "cell_type": "code",
   "execution_count": 41,
   "metadata": {},
   "outputs": [
    {
     "name": "stdout",
     "output_type": "stream",
     "text": [
      "java\n",
      "-------\n",
      "in base mode\n",
      "\t-total errs: 0 / 3 (0.0)\n",
      "\t-avg time:   6458.333333333333\n",
      "\t-avg mem:    644491.2380952381\n",
      "in static mode\n",
      "\t-total errs: 0 / 3 (0.0)\n",
      "\t-avg time:   6497.666666666667\n",
      "\t-avg mem:    695917.3968253968\n",
      "in dynamic mode\n",
      "\t-total errs: 0 / 3 (0.0)\n",
      "\t-avg time:   6680.333333333333\n",
      "\t-avg mem:    744363.4285714285\n",
      "\n",
      "graal\n",
      "-------\n",
      "in base mode\n",
      "\t-total errs: 3 / 3 (1.0)\n",
      "in static mode\n",
      "\t-total errs: 3 / 3 (1.0)\n",
      "in dynamic mode\n",
      "\t-total errs: 3 / 3 (1.0)\n",
      "\n",
      "nodejs\n",
      "-------\n",
      "in base mode\n",
      "\t-total errs: 0 / 3 (0.0)\n",
      "\t-avg time:   9587.666666666666\n",
      "\t-avg mem:    5165093.142857143\n",
      "in static mode\n",
      "\t-total errs: 0 / 3 (0.0)\n",
      "\t-avg time:   9985.333333333334\n",
      "\t-avg mem:    5360287.492063493\n",
      "in dynamic mode\n",
      "\t-total errs: 0 / 3 (0.0)\n",
      "\t-avg time:   10060.666666666666\n",
      "\t-avg mem:    5738417.8412698405\n",
      "\n",
      "go\n",
      "-------\n",
      "in base mode\n",
      "\t-total errs: 0 / 3 (0.0)\n",
      "\t-avg time:   6166.333333333333\n",
      "\t-avg mem:    129398.66666666667\n",
      "in static mode\n",
      "\t-total errs: 0 / 3 (0.0)\n",
      "\t-avg time:   5907.666666666667\n",
      "\t-avg mem:    131897.07936507938\n",
      "in dynamic mode\n",
      "\t-total errs: 0 / 3 (0.0)\n",
      "\t-avg time:   5616.666666666667\n",
      "\t-avg mem:    132517.6507936508\n",
      "\n",
      "posix\n",
      "-------\n",
      "in base mode\n",
      "\t-total errs: 0 / 3 (0.0)\n",
      "\t-avg time:   6466.333333333333\n",
      "\t-avg mem:    4418.0\n",
      "in static mode\n",
      "\t-total errs: 0 / 3 (0.0)\n",
      "\t-avg time:   6674.0\n",
      "\t-avg mem:    4420.333333333333\n",
      "in dynamic mode\n",
      "\t-total errs: 1 / 3 (0.3333333333333333)\n",
      "\t-avg time:   7375.5\n",
      "\t-avg mem:    4439.0\n",
      "\n"
     ]
    }
   ],
   "source": [
    "for language in languages:   \n",
    "    print(language)\n",
    "    print('-------')\n",
    "    for mode in modes:\n",
    "        print('in ' + mode + ' mode')\n",
    "        t, mem, errs = allData(language, mode)\n",
    "        print('\\t-total errs: ' + str(sum(errs)) + ' / ' + str(len(errs)) + ' (' + str(sum(errs)/len(errs)) + ')')\n",
    "        if len(t) > 0 :\n",
    "            print('\\t-avg time:   ' + str(sum(t)/len(t)))\n",
    "        if len(mem) > 0 :            \n",
    "            print('\\t-avg mem:    ' + str(sum(mem)/len(mem)))        \n",
    "    print()"
   ]
  }
 ],
 "metadata": {
  "kernelspec": {
   "display_name": "Python 3",
   "language": "python",
   "name": "python3"
  },
  "language_info": {
   "codemirror_mode": {
    "name": "ipython",
    "version": 3
   },
   "file_extension": ".py",
   "mimetype": "text/x-python",
   "name": "python",
   "nbconvert_exporter": "python",
   "pygments_lexer": "ipython3",
   "version": "3.6.3"
  }
 },
 "nbformat": 4,
 "nbformat_minor": 2
}
