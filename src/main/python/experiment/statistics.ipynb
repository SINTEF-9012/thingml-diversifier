{
 "cells": [
  {
   "cell_type": "code",
   "execution_count": 1,
   "metadata": {
    "collapsed": true
   },
   "outputs": [],
   "source": [
    "import numpy as np\n",
    "from os import listdir, stat\n",
    "import re\n",
    "from IPython.display import HTML, display\n",
    "import matplotlib.pyplot as plt"
   ]
  },
  {
   "cell_type": "code",
   "execution_count": 2,
   "metadata": {
    "collapsed": true
   },
   "outputs": [],
   "source": [
    "re_app_sent = re.compile(r'^#APP: sent (\\d+)\\s*bts\\.$')\n",
    "re_cli_sent = re.compile(r'^#CLI: sent (\\d+)\\s*bts\\.$')\n",
    "re_cli_used = re.compile(r'^#CLI: used (\\d+)\\s*bts\\.$')\n",
    "re_cli_took = re.compile(r'^#CLI: took ((\\d+)\\s*ms\\.)?((\\d+)\\s*ns\\.)?$')\n",
    "re_log_num = re.compile(r'^\\D+(\\d+)\\.log$')\n",
    "re_bin_num = re.compile(r'^\\D+(\\d+)\\.bin$')\n",
    "\n",
    "# Returns an array with columns [time, network, memory]\n",
    "def readLogs(path):\n",
    "    logs = listdir(path)\n",
    "    data = np.zeros((len(logs), 3))\n",
    "    for log in logs:\n",
    "        filename = path+'/'+log\n",
    "        with open(filename,'r') as file:\n",
    "            log_num = int(re_log_num.match(log).group(1))-1\n",
    "            found_christmas = False\n",
    "            app_sent_n = -1\n",
    "            cli_sent_n = -1\n",
    "            cli_used_n = -1\n",
    "            cli_took_n = -1\n",
    "            while True:\n",
    "                line = file.readline()\n",
    "                if not line:\n",
    "                    break\n",
    "                elif line.startswith('#CLI: What are you waitin for? Christmas?'):\n",
    "                    found_christmas = True\n",
    "                else:\n",
    "                    app_sent = re_app_sent.match(line)\n",
    "                    cli_sent = re_cli_sent.match(line)\n",
    "                    cli_used = re_cli_used.match(line)\n",
    "                    cli_took = re_cli_took.match(line)\n",
    "                    if (app_sent):\n",
    "                        app_sent_n = int(app_sent.group(1))\n",
    "                    elif (cli_sent):\n",
    "                        cli_sent_n = int(cli_sent.group(1))\n",
    "                    elif (cli_used):\n",
    "                        cli_used_n = int(cli_used.group(1))\n",
    "                    elif (cli_took):\n",
    "                        if (cli_took.group(4)):\n",
    "                            cli_took_n = int(cli_took.group(4))\n",
    "                        else:\n",
    "                            cli_took_n = int(cli_took.group(2))*1000000\n",
    "                #print(line)\n",
    "            if not found_christmas:\n",
    "                print('ERROR! Did not find Christmas! In '+filename)\n",
    "            elif app_sent_n < 0 or cli_sent_n < 0 or cli_used_n < 0 or cli_took_n < 0:\n",
    "                print('ERROR! Missing some stats! In '+filename)\n",
    "            else:\n",
    "                data[log_num, 0] = cli_took_n\n",
    "                data[log_num, 1] = cli_sent_n+app_sent_n\n",
    "                data[log_num, 2] = cli_used_n\n",
    "    return data\n",
    "\n",
    "\n",
    "def readLanguage(path):\n",
    "    return {\n",
    "        'base': readLogs(path+'/base'),\n",
    "        'static': readLogs(path+'/static'),\n",
    "        'dynamic': readLogs(path+'/dynamic')\n",
    "    }\n",
    "\n",
    "def sizeBins(path):\n",
    "    bins = listdir(path)\n",
    "    data = np.zeros((len(bins), 1))\n",
    "    for binfile in bins:\n",
    "        filename = path+'/'+binfile\n",
    "        bin_num = 0\n",
    "        if (len(bins) > 1):\n",
    "            bin_num = int(re_bin_num.match(binfile).group(1))-1\n",
    "        data[bin_num] = stat(filename).st_size\n",
    "    return data\n",
    "\n",
    "def sizeLanguage(path):\n",
    "    sizes = {\n",
    "        'static': sizeBins(path+'/static'),\n",
    "        'dynamic': sizeBins(path+'/dynamic')\n",
    "    }\n",
    "    sizes['base'] = np.repeat(sizeBins(path+'/base'),sizes['static'].shape[0],axis=0);\n",
    "    return sizes\n",
    "\n",
    "def readLanguages(logdir, bindir, languages):\n",
    "    data = {}\n",
    "    for language in languages:\n",
    "        data[language] = {}\n",
    "        stats = readLanguage(logdir+'/'+language)\n",
    "        sizes = sizeLanguage(bindir+'/'+language)\n",
    "        for mode, array in stats.items():\n",
    "            data[language][mode] = np.concatenate((array, sizes[mode]), axis=1)\n",
    "    return data"
   ]
  },
  {
   "cell_type": "code",
   "execution_count": 3,
   "metadata": {
    "collapsed": true
   },
   "outputs": [],
   "source": [
    "# Calculate statistics on all data\n",
    "def calculateStats(data, scaling):\n",
    "    stats = {}\n",
    "    for language, modes in data.items():\n",
    "        stats[language] = {}\n",
    "        for mode, array in modes.items():\n",
    "            scaled = array/scaling\n",
    "            stats[language][mode] = {\n",
    "                'mean': np.mean(scaled, axis=0),\n",
    "                'std': np.std(scaled, axis=0)\n",
    "            }\n",
    "    return stats\n",
    "\n",
    "def calculateDiffStats(data, scaling):\n",
    "    stats = {}\n",
    "    for language, modes in data.items():\n",
    "        stats[language] = {}\n",
    "        base_mean_per_msg = np.mean(modes['base'], axis=0)/scaling\n",
    "        for mode, array in modes.items():\n",
    "            if mode != 'base':\n",
    "                mode_diff_per_msg = array/scaling - base_mean_per_msg\n",
    "                stats[language][mode] = {\n",
    "                    'mean': np.mean(mode_diff_per_msg, axis=0),\n",
    "                    'std': np.std(mode_diff_per_msg, axis=0)\n",
    "                }\n",
    "    return stats"
   ]
  },
  {
   "cell_type": "code",
   "execution_count": 4,
   "metadata": {
    "collapsed": true
   },
   "outputs": [],
   "source": [
    "def formatNumber(number, unit):\n",
    "    order = ''\n",
    "    if number > 1e9:\n",
    "        number = number/1e9\n",
    "        order = 'G'\n",
    "    elif number > 1e6:\n",
    "        number = number/1e6\n",
    "        order = 'M'\n",
    "    elif number > 1e3:\n",
    "        number = number/1e3\n",
    "        order = 'k'\n",
    "    elif number < 1e-6:\n",
    "        number = number*1e9\n",
    "        order = 'n'\n",
    "    elif number < 1e-3:\n",
    "        number = number*1e6\n",
    "        order = 'µ'\n",
    "    elif number < 1:\n",
    "        number = number*1e3\n",
    "        order = 'm'\n",
    "        \n",
    "    return ('%.2f'%number)+order+unit\n",
    "\n",
    "def tableData(data, i, scale, unit):\n",
    "    return '<td>'+formatNumber(data['mean'][i]*scale, unit)+' ± '+formatNumber(data['std'][i]*scale, unit)+'</td>'\n",
    "\n",
    "# Display a nice table\n",
    "def displayStatsTable(stats):\n",
    "    html = '<table>'\n",
    "    # Make headers\n",
    "    html += '<tr><th>Language:</th><th>Mode:</th><th>Time/msg:</th><th>Network/msg:</th><th>Memory:</th><th>Size:</th></tr>'\n",
    "    # Make rows\n",
    "    for language, modes in stats.items():\n",
    "        for mode, data in modes.items():\n",
    "            html += '<tr><td>'+language+'</td><td>'+mode+'</td>'\n",
    "            html += tableData(data, 0, 1e-9, 's')\n",
    "            html += tableData(data, 1, 1, 'b')\n",
    "            html += tableData(data, 2, 1, 'b')\n",
    "            html += tableData(data, 3, 1, 'b')\n",
    "            html += '</tr>'\n",
    "    # End table\n",
    "    html += '</table>'\n",
    "    display(HTML(html))"
   ]
  },
  {
   "cell_type": "code",
   "execution_count": 5,
   "metadata": {},
   "outputs": [
    {
     "data": {
      "text/html": [
       "<table><tr><th>Language:</th><th>Mode:</th><th>Time/msg:</th><th>Network/msg:</th><th>Memory:</th><th>Size:</th></tr><tr><td>nodejs</td><td>base</td><td>61.87µs ± 9.40µs</td><td>4.33b ± 0.00nb</td><td>3.05Mb ± 44.71kb</td><td>26.03kb ± 0.00nb</td></tr><tr><td>nodejs</td><td>static</td><td>110.10µs ± 11.97µs</td><td>7.30b ± 862.93mb</td><td>3.20Mb ± 27.75kb</td><td>32.50kb ± 16.01b</td></tr><tr><td>nodejs</td><td>dynamic</td><td>141.03µs ± 19.60µs</td><td>7.44b ± 896.53mb</td><td>3.35Mb ± 56.77kb</td><td>44.49kb ± 20.39b</td></tr><tr><td>go</td><td>base</td><td>2.72µs ± 2.42µs</td><td>4.33b ± 0.00nb</td><td>116.59kb ± 267.33b</td><td>2.16Mb ± 0.00nb</td></tr><tr><td>go</td><td>static</td><td>4.46µs ± 1.65µs</td><td>7.30b ± 862.93mb</td><td>135.66kb ± 2.41kb</td><td>2.27Mb ± 3.84kb</td></tr><tr><td>go</td><td>dynamic</td><td>4.66µs ± 1.76µs</td><td>7.44b ± 896.53mb</td><td>136.92kb ± 2.17kb</td><td>2.39Mb ± 5.81kb</td></tr><tr><td>arduino</td><td>base</td><td>463.33µs ± 0.00ns</td><td>4.33b ± 0.00nb</td><td>697.00b ± 0.00nb</td><td>13.44kb ± 0.00nb</td></tr><tr><td>arduino</td><td>static</td><td>1.27ms ± 74.13µs</td><td>7.30b ± 862.93mb</td><td>773.69b ± 8.39b</td><td>21.53kb ± 395.38b</td></tr><tr><td>arduino</td><td>dynamic</td><td>1.50ms ± 76.81µs</td><td>7.44b ± 896.53mb</td><td>843.63b ± 13.72b</td><td>37.40kb ± 1.01kb</td></tr></table>"
      ],
      "text/plain": [
       "<IPython.core.display.HTML object>"
      ]
     },
     "metadata": {},
     "output_type": "display_data"
    },
    {
     "data": {
      "text/html": [
       "<table><tr><th>Language:</th><th>Mode:</th><th>Time/msg:</th><th>Network/msg:</th><th>Memory:</th><th>Size:</th></tr><tr><td>nodejs</td><td>static</td><td>48.23µs ± 11.97µs</td><td>2.97b ± 862.93mb</td><td>148.40kb ± 27.75kb</td><td>6.47kb ± 16.01b</td></tr><tr><td>nodejs</td><td>dynamic</td><td>79.17µs ± 19.60µs</td><td>3.10b ± 896.53mb</td><td>295.08kb ± 56.77kb</td><td>18.46kb ± 20.39b</td></tr><tr><td>go</td><td>static</td><td>1.75µs ± 1.65µs</td><td>2.97b ± 862.93mb</td><td>19.07kb ± 2.41kb</td><td>108.39kb ± 3.84kb</td></tr><tr><td>go</td><td>dynamic</td><td>1.94µs ± 1.76µs</td><td>3.10b ± 896.53mb</td><td>20.34kb ± 2.17kb</td><td>227.30kb ± 5.81kb</td></tr><tr><td>arduino</td><td>static</td><td>809.90µs ± 74.13µs</td><td>2.97b ± 862.93mb</td><td>76.69b ± 8.39b</td><td>8.09kb ± 395.38b</td></tr><tr><td>arduino</td><td>dynamic</td><td>1.04ms ± 76.81µs</td><td>3.10b ± 896.53mb</td><td>146.63b ± 13.72b</td><td>23.96kb ± 1.01kb</td></tr></table>"
      ],
      "text/plain": [
       "<IPython.core.display.HTML object>"
      ]
     },
     "metadata": {},
     "output_type": "display_data"
    }
   ],
   "source": [
    "logdir = '../../../target/thingml-logs'\n",
    "bindir = '../../../target/thingml-bins'\n",
    "languages = ['nodejs', 'go', 'arduino']\n",
    "\n",
    "data = readLanguages(logdir, bindir, languages)\n",
    "\n",
    "stats = calculateStats(data, np.array([300, 300, 1, 1]))\n",
    "diffstats = calculateDiffStats(data, np.array([300, 300, 1, 1]))\n",
    "\n",
    "displayStatsTable(stats)\n",
    "displayStatsTable(diffstats)"
   ]
  }
 ],
 "metadata": {
  "kernelspec": {
   "display_name": "Python 3",
   "language": "python",
   "name": "python3"
  },
  "language_info": {
   "codemirror_mode": {
    "name": "ipython",
    "version": 3
   },
   "file_extension": ".py",
   "mimetype": "text/x-python",
   "name": "python",
   "nbconvert_exporter": "python",
   "pygments_lexer": "ipython3",
   "version": "3.6.3"
  }
 },
 "nbformat": 4,
 "nbformat_minor": 2
}
